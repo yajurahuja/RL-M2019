{
 "cells": [
  {
   "cell_type": "code",
   "execution_count": 1,
   "metadata": {},
   "outputs": [],
   "source": [
    "import numpy as np\n",
    "import random\n",
    "import matplotlib.pyplot as plt"
   ]
  },
  {
   "cell_type": "code",
   "execution_count": 2,
   "metadata": {},
   "outputs": [],
   "source": [
    "#Figure 2.3 for stationary Setting"
   ]
  },
  {
   "cell_type": "code",
   "execution_count": 3,
   "metadata": {},
   "outputs": [],
   "source": [
    "#Stationary setting, action-value estimates: constant step, Optimistic Initial Values\n",
    "def BanditSOIVc(k, ep = 0.0, t = 1000, alpha = 0.1):\n",
    "    Optimal = []\n",
    "    Avg_rew = []\n",
    "    action = random.randint(0,9)\n",
    "    N = []\n",
    "    Reward = 0\n",
    "    Q_estimates = []\n",
    "    Q_Actual = np.random.normal(0, 1, k)\n",
    "    for i in range(k):\n",
    "        N.append(0)\n",
    "        Q_estimates.append(5) # Initialize with optimistically high value\n",
    "    for i in range(1, t+1, 1):\n",
    "        guess = random.uniform(0,1)\n",
    "        if guess > ep:\n",
    "            if i != 1:\n",
    "                action = np.argmax(Q_estimates)\n",
    "\n",
    "        else:\n",
    "            action = random.randint(0,9)\n",
    "            \n",
    "        Reward = np.random.normal(Q_Actual[action], 1, 1)\n",
    "        N[action] = N[action] + 1\n",
    "        Q_estimates[action] = Q_estimates[action] + (alpha)*(Reward - Q_estimates[action])\n",
    "        \n",
    "        opt = np.argmax(Q_Actual)\n",
    "        if opt == action:\n",
    "            Optimal.append(1) #Optimal array\n",
    "        else:\n",
    "            Optimal.append(0)\n",
    "        \n",
    "        Avg_rew.append(Reward) #Reward array\n",
    "    return Avg_rew, Optimal"
   ]
  },
  {
   "cell_type": "code",
   "execution_count": 4,
   "metadata": {},
   "outputs": [],
   "source": [
    "#Stationary setting, Action Value Estimate: constant step\n",
    "def Bandit(k, ep = 0.1, m = 100, alpha = 0.1):\n",
    "    Avg_rew = []\n",
    "    Optimal = []\n",
    "    total = 100\n",
    "    action = random.randint(0,9) #initial action\n",
    "    N = []\n",
    "    Reward = 0\n",
    "    Q_estimates = []\n",
    "    Q_Actual = np.random.normal(0, 1, k) #q* distribution\n",
    "    for i in range(k):\n",
    "        N.append(0)\n",
    "        Q_estimates.append(0)\n",
    "    for i in range(1, m+1, 1):\n",
    "        guess = random.uniform(0,1)\n",
    "        if guess > ep:\n",
    "            if i != 1:\n",
    "                action = np.argmax(Q_estimates)\n",
    "        else:\n",
    "            action = random.randint(0,9)\n",
    "        Reward = np.random.normal(Q_Actual[action], 1, 1)\n",
    "        N[action] = N[action] + 1\n",
    "        Q_estimates[action] = Q_estimates[action] + (alpha)*(Reward - Q_estimates[action])\n",
    "        \n",
    "        opt = np.argmax(Q_Actual)\n",
    "        if opt == action:\n",
    "            Optimal.append(1) #Optimal array\n",
    "        else:\n",
    "            Optimal.append(0)\n",
    "        Avg_rew.append(Reward) #Reward array\n",
    "    return Avg_rew, Optimal"
   ]
  },
  {
   "cell_type": "code",
   "execution_count": null,
   "metadata": {},
   "outputs": [],
   "source": [
    "alpha = 0.1\n",
    "Sa = []\n",
    "Sb = []\n",
    "Ca = []\n",
    "Cb = []\n",
    "for i in range(2000):\n",
    "    avgs, opts = Bandit(10, 0.1, 1000, alpha)\n",
    "    Sa.append(avgs)\n",
    "    Sb.append(opts)\n",
    "    avgc, optc = BanditSOIVc(10, 0.0, 1000, alpha)\n",
    "    Ca.append(avgc)\n",
    "    Cb.append(optc)\n",
    "\n",
    "    \n",
    "avg1 = np.mean(Sa, axis = 0)\n",
    "avg2 = np.mean(Ca, axis = 0)\n",
    "plt.plot(avg1, label = 'realistic e-Greedy, Q1 = 0, ep = 0.1')\n",
    "plt.plot(avg2, label = 'Optimistic Greedy, Q1 = 5, ep = 0')\n",
    "plt.xlabel('Steps') \n",
    "plt.ylabel('Average Reward') \n",
    "plt.title('Non Stationary setting, epsilon = 0.1, 1000 steps & 2000 runs')\n",
    "plt.legand()\n",
    "plt.show()"
   ]
  },
  {
   "cell_type": "code",
   "execution_count": null,
   "metadata": {},
   "outputs": [],
   "source": [
    "#Plotting optimal percentage graph\n",
    "avg1 = np.mean(Sb, axis = 0)\n",
    "avg2 = np.mean(Cb, axis = 0)\n",
    "plt.plot(avg1, label = 'realistic e-Greedy, Q1 = 0, ep = 0.1')\n",
    "plt.plot(avg2, label = 'Optimistic Greedy, Q1 = 5, ep = 0')\n",
    "plt.xlabel('Steps') \n",
    "plt.ylabel('Optimal Action') \n",
    "plt.title('Non Stationary setting, epsilon = 0.1, 10000 steps & 2000 runs')\n",
    "plt.legand()\n",
    "plt.show()"
   ]
  }
 ],
 "metadata": {
  "kernelspec": {
   "display_name": "Python 3",
   "language": "python",
   "name": "python3"
  },
  "language_info": {
   "codemirror_mode": {
    "name": "ipython",
    "version": 3
   },
   "file_extension": ".py",
   "mimetype": "text/x-python",
   "name": "python",
   "nbconvert_exporter": "python",
   "pygments_lexer": "ipython3",
   "version": "3.6.5"
  }
 },
 "nbformat": 4,
 "nbformat_minor": 2
}
