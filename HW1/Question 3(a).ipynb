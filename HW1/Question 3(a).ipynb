{
 "cells": [
  {
   "cell_type": "code",
   "execution_count": 1,
   "metadata": {},
   "outputs": [],
   "source": [
    "import numpy as np\n",
    "import random\n",
    "import matplotlib.pyplot as plt\n",
    "from multiprocessing import cpu_count, Pool"
   ]
  },
  {
   "cell_type": "code",
   "execution_count": 2,
   "metadata": {},
   "outputs": [],
   "source": [
    "#Q3(a)\n",
    "#Stationary Case"
   ]
  },
  {
   "cell_type": "code",
   "execution_count": 3,
   "metadata": {},
   "outputs": [],
   "source": [
    "#Stationary setting, action-value estimates: constant step, Optimistic Initial Values\n",
    "def BanditSOIVc(k, ep = 0.0, t = 1000, alpha = 0.1):\n",
    "    Optimal = []\n",
    "    Avg_rew = []\n",
    "    action = random.randint(0,9)\n",
    "    N = []\n",
    "    Reward = 0\n",
    "    Q_estimates = []\n",
    "    Q_Actual = np.random.normal(0, 1, k)\n",
    "    for i in range(k):\n",
    "        N.append(0)\n",
    "        Q_estimates.append(5) # Initialize with optimistically high value\n",
    "    for i in range(1, t+1, 1):\n",
    "        guess = random.uniform(0,1)\n",
    "        if guess > ep:\n",
    "            if i != 1:\n",
    "                action = np.argmax(Q_estimates)\n",
    "\n",
    "        else:\n",
    "            action = random.randint(0,9)\n",
    "            \n",
    "        Reward = np.random.normal(Q_Actual[action], 1)\n",
    "        N[action] = N[action] + 1\n",
    "        Q_estimates[action] = Q_estimates[action] + (alpha)*(Reward - Q_estimates[action])\n",
    "        \n",
    "        opt = np.argmax(Q_Actual)\n",
    "        if opt == action:\n",
    "            Optimal.append(1) #Optimal array\n",
    "        else:\n",
    "            Optimal.append(0)\n",
    "        \n",
    "        Avg_rew.append(Reward) #Reward array\n",
    "    return np.array(Avg_rew), np.array(Optimal)"
   ]
  },
  {
   "cell_type": "code",
   "execution_count": 4,
   "metadata": {},
   "outputs": [],
   "source": [
    "#Stationary setting, action-value estimates: constant step\n",
    "def Bandit(k, ep = 0.1, m = 100, alpha = 0.1):\n",
    "    Avg_rew = []\n",
    "    Optimal = []\n",
    "    total = 100\n",
    "    action = random.randint(0,9) #initial action\n",
    "    N = []\n",
    "    Reward = 0\n",
    "    Q_estimates = []\n",
    "    Q_Actual = np.random.normal(0, 1, k) #q* distribution\n",
    "    for i in range(k):\n",
    "        N.append(0)\n",
    "        Q_estimates.append(0)\n",
    "    for i in range(1, m+1, 1):\n",
    "        guess = random.uniform(0,1)\n",
    "        if guess > ep:\n",
    "            if i != 1:\n",
    "                action = np.argmax(Q_estimates)\n",
    "        else:\n",
    "            action = random.randint(0,9)\n",
    "        Reward = np.random.normal(Q_Actual[action], 1)\n",
    "        N[action] = N[action] + 1\n",
    "        Q_estimates[action] = Q_estimates[action] + (alpha)*(Reward - Q_estimates[action])\n",
    "        \n",
    "        opt = np.argmax(Q_Actual)\n",
    "        if opt == action:\n",
    "            Optimal.append(1) #Optimal array\n",
    "        else:\n",
    "            Optimal.append(0)\n",
    "        Avg_rew.append(Reward) #Reward array\n",
    "    return np.array(Avg_rew), np.array(Optimal)"
   ]
  },
  {
   "cell_type": "code",
   "execution_count": 5,
   "metadata": {},
   "outputs": [],
   "source": [
    "def BanditUCBS(k, ep = 0.0, m = 100, alpha = 0.1, c = 1):\n",
    "    Avg_rew = []\n",
    "    Optimal = []\n",
    "    total = 100\n",
    "    action = random.randint(0,9) #initial action\n",
    "    N = []\n",
    "    Reward = 0\n",
    "    Q_estimates = []\n",
    "    Q_Actual = np.random.normal(0, 1, k) #q* distribution\n",
    "    for i in range(k):\n",
    "        N.append(0.0001)\n",
    "        Q_estimates.append(0)\n",
    "    for i in range(1, m+1, 1):\n",
    "        guess = random.uniform(0,1)\n",
    "        if guess >= ep:\n",
    "            action = np.argmax(Q_estimates+np.sqrt(np.divide(np.zeros(k) + np.log(i), np.array(N))))\n",
    "            \n",
    "        Reward = np.random.normal(Q_Actual[action], 1)\n",
    "        N[action] = N[action] + 1\n",
    "        Q_estimates[action] = Q_estimates[action] + (alpha)*(Reward - Q_estimates[action])\n",
    "        \n",
    "        opt = np.argmax(Q_Actual)\n",
    "        if opt == action:\n",
    "            Optimal.append(1) #Optimal array\n",
    "        else:\n",
    "            Optimal.append(0)\n",
    "        Avg_rew.append(Reward) #Reward array\n",
    "\n",
    "    return np.array(Avg_rew), np.array(Optimal)\n",
    "    "
   ]
  },
  {
   "cell_type": "code",
   "execution_count": 6,
   "metadata": {},
   "outputs": [],
   "source": [
    "# graph for average rewards\n",
    "def parallel(num_simulations):\n",
    "    alpha = 0.1\n",
    "    Sa = np.zeros(Steps)\n",
    "    Sb = np.zeros(Steps)\n",
    "    Ca = np.zeros(Steps)\n",
    "    Cb = np.zeros(Steps)\n",
    "    Ua = np.zeros(Steps)\n",
    "    Ub = np.zeros(Steps)\n",
    "# num_simulations = 2000\n",
    "    for i in range(num_simulations):\n",
    "        avgs, opts = Bandit(10, 0.1, Steps, alpha)\n",
    "        Sa = np.add(Sa, avgs)\n",
    "        Sb = np.add(Sb, opts)\n",
    "        avgc, optc = BanditSOIVc(10, 0.0, Steps, alpha)\n",
    "        Ca = np.add(Ca, avgc)\n",
    "        Cb = np.add(Cb, optc)\n",
    "        avgs, opts = BanditUCBS(10, 0.0, Steps, alpha, 2)\n",
    "        Ua = np.add(Ua,avgs)\n",
    "        Ub = np.add(Ub,opts)\n",
    "    return Sa, Sb, Ca, Cb, Ua, Ub"
   ]
  },
  {
   "cell_type": "code",
   "execution_count": 8,
   "metadata": {},
   "outputs": [],
   "source": [
    "num_simulations = 2000\n",
    "Steps = 10000\n",
    "num_cpu = cpu_count()\n",
    "pool = Pool(num_cpu)\n",
    "args = [num_simulations // num_cpu for _ in range(num_cpu)]\n",
    "results = pool.map(parallel, args)"
   ]
  },
  {
   "cell_type": "code",
   "execution_count": null,
   "metadata": {},
   "outputs": [],
   "source": [
    "Sa = np.zeros(Steps)\n",
    "Sb = np.zeros(Steps)\n",
    "Ca = np.zeros(Steps)\n",
    "Cb = np.zeros(Steps)\n",
    "Ua = np.zeros(Steps)\n",
    "Ub = np.zeros(Steps)\n",
    "for i in range(num_cpu):\n",
    "    Sa += results[i][0]\n",
    "    Sb += results[i][1]\n",
    "    Ca += results[i][2]\n",
    "    Cb += results[i][3]\n",
    "    Ua += results[i][4]\n",
    "    Ub += results[i][5]\n",
    "del(results)"
   ]
  },
  {
   "cell_type": "code",
   "execution_count": null,
   "metadata": {},
   "outputs": [],
   "source": [
    "# graph for average rewards\n",
    "avg1 = Sa/num_simulations\n",
    "avg2 = Ca/num_simulations\n",
    "avg3 = Ua/num_simulations\n",
    "fig=plt.figure(figsize=(18, 16), dpi= 80, facecolor='w', edgecolor='k')\n",
    "plt.plot(avg1[:1000], label = 'Realistic ep-Greedy, Q1 = 0, ep = 0.1')\n",
    "plt.plot(avg2[:1000], label = 'Optimistic ,Q1 = 5, ep = 0')\n",
    "plt.plot(avg3[:1000], label = 'UCB')\n",
    "plt.xlabel('Steps') \n",
    "plt.ylabel('Average Reward') \n",
    "plt.title('Stationary setting, 1000 steps & 2000 runs')\n",
    "plt.legend()\n",
    "\n",
    "plt.show()"
   ]
  },
  {
   "cell_type": "code",
   "execution_count": null,
   "metadata": {},
   "outputs": [],
   "source": [
    "#Plotting optimal percentage graph\n",
    "avg1 = Sb/num_simulations\n",
    "avg2 = Cb/num_simulations\n",
    "avg3 = Ub/num_simulations\n",
    "fig=plt.figure(figsize=(18, 16), dpi= 80, facecolor='w', edgecolor='k')\n",
    "plt.plot(avg1, label = 'Realistic ep-Greedy, Q1 = 0, ep = 0.1')\n",
    "plt.plot(avg2, label = 'Optimistic ,Q1 = 5, ep = 0')\n",
    "plt.plot(avg3, label = 'UCB')\n",
    "plt.xlabel('Steps') \n",
    "plt.ylabel('Optimal Action') \n",
    "plt.title('Stationary setting, 1000 steps & 2000 runs')\n",
    "plt.legend()\n",
    "plt.show()"
   ]
  },
  {
   "cell_type": "code",
   "execution_count": null,
   "metadata": {},
   "outputs": [],
   "source": []
  },
  {
   "cell_type": "code",
   "execution_count": null,
   "metadata": {},
   "outputs": [],
   "source": []
  }
 ],
 "metadata": {
  "kernelspec": {
   "display_name": "Python 3",
   "language": "python",
   "name": "python3"
  },
  "language_info": {
   "codemirror_mode": {
    "name": "ipython",
    "version": 3
   },
   "file_extension": ".py",
   "mimetype": "text/x-python",
   "name": "python",
   "nbconvert_exporter": "python",
   "pygments_lexer": "ipython3",
   "version": "3.6.5"
  }
 },
 "nbformat": 4,
 "nbformat_minor": 2
}
